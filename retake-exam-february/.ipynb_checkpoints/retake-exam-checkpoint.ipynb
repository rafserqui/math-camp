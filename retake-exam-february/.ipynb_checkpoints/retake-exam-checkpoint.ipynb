{
 "metadata": {
  "language_info": {
   "codemirror_mode": {
    "name": "ipython",
    "version": 3
   },
   "file_extension": ".py",
   "mimetype": "text/x-python",
   "name": "python",
   "nbconvert_exporter": "python",
   "pygments_lexer": "ipython3",
   "version": "3.8.3-final"
  },
  "orig_nbformat": 2,
  "kernelspec": {
   "name": "python3",
   "display_name": "Python 3",
   "language": "python"
  }
 },
 "nbformat": 4,
 "nbformat_minor": 2,
 "cells": [
  {
   "source": [
    "# Examen ADE Grupo 1\n",
    "\n",
    "## Ejercicio 1\n",
    "\n",
    "Estudiar si la siguiente serie es convergente o divergente y, en caso de convergencia, calcular la suma\n",
    "\n",
    "$$\n",
    "\\sum_{n = 1}^{\\infty} \\frac{(-1)^{n - 1}}{2^n}\n",
    "$$"
   ],
   "cell_type": "markdown",
   "metadata": {}
  },
  {
   "cell_type": "code",
   "execution_count": 1,
   "metadata": {},
   "outputs": [
    {
     "output_type": "execute_result",
     "data": {
      "text/plain": [
       "1/3"
      ],
      "text/latex": "$\\displaystyle \\frac{1}{3}$"
     },
     "metadata": {},
     "execution_count": 1
    }
   ],
   "source": [
    "from sympy import *\n",
    "\n",
    "# Define variables\n",
    "n = Symbol('n')\n",
    "\n",
    "# Define sum\n",
    "asum = Sum(((-1)**(n - 1))/2**n, (n, 1, oo))\n",
    "\n",
    "asum.doit()"
   ]
  },
  {
   "source": [
    "En este caso la serie es convergente. Podemos estudiarla en los siguientes pasos:\n",
    "\n",
    "1. Comprobar la condición necesaria de convergencia\n",
    "$$\n",
    "\\lim_{n\\rightarrow\\infty} a_n = 0 \\Rightarrow \\lim_{n\\rightarrow\\infty} \\left(\\frac{-1}{2}\\right)^n = 0\n",
    "$$\n",
    "2. Notar que es una serie alternada, ya que podemos expresarla como\n",
    "$$\n",
    "\\sum_{n = 1}^{\\infty} \\frac{(-1)^{n - 1}}{2^n} = -\\sum_{n = 1}^{\\infty} (-1)^n \\frac{1}{2^n}\n",
    "$$\n",
    "Una serie alternada es convergente si, y solo si, $\\forall n\\in\\mathbb{N}, z_n \\geq z_{n+1}$ y $\\lim_{n\\rightarrow\\infty} z_n = 0$. Donde, en nuestro caso, $z_n = 1/2^n$\n",
    "\n",
    "Se cumplen los requisitos de convergencia. Podemos escribirla como anteriormente\n",
    "$$\n",
    "\\sum_{n = 1}^{\\infty} \\frac{(-1)^{n - 1}}{2^n} = -\\sum_{n = 1}^{\\infty} \\left(\\frac{-1}{2}\\right)^n \n",
    "$$\n",
    "y observamos que es una serie geométrica de razón $-1/2$, por lo tanto convergente. Aplicando la fórmula para las series geométricas, encontramos que el valor de la serie es $1/3$.\n"
   ],
   "cell_type": "markdown",
   "metadata": {}
  },
  {
   "source": [
    "## Ejercicio 2\n",
    "\n",
    "Calcular la siguiente integral impropia y contestar razonadamente si representa un área o no.\n",
    "\n",
    "$$\n",
    "\\int^{\\infty}_1 x e^{-2x} dx\n",
    "$$\n",
    "\n",
    "1. Calcular por partes. \n",
    "$$\n",
    "\\int^{\\infty}_1 x e^{-2x} dx = \\lim_{b\\rightarrow\\infty}\\int^b_1 x e^{-2x} dx\n",
    "$$\n",
    "\n",
    "dejamos $u(x) = x$ y $v'(x) = e^{-2x}$. Nos hace falta calcular primero $v(x) = \\int e^{-2x} dx$"
   ],
   "cell_type": "markdown",
   "metadata": {}
  },
  {
   "cell_type": "code",
   "execution_count": 2,
   "metadata": {},
   "outputs": [
    {
     "output_type": "execute_result",
     "data": {
      "text/plain": [
       "-exp(-2*x)/2"
      ],
      "text/latex": "$\\displaystyle - \\frac{e^{- 2 x}}{2}$"
     },
     "metadata": {},
     "execution_count": 2
    }
   ],
   "source": [
    "x = Symbol('x')\n",
    "\n",
    "integrate(exp(-2 * x))"
   ]
  },
  {
   "source": [
    "2. La integral queda, una vez empleamos por partes:\n",
    "$$\n",
    "\\int x e^{-2x} dx = -\\frac{xe^{-2x}}{2} + \\frac{1}{2}\\int e^{-2x} dx\n",
    "$$\n",
    "\n",
    "Resolviendo la última integral y simplificando"
   ],
   "cell_type": "markdown",
   "metadata": {}
  },
  {
   "cell_type": "code",
   "execution_count": 3,
   "metadata": {},
   "outputs": [
    {
     "output_type": "execute_result",
     "data": {
      "text/plain": [
       "(-2*x - 1)*exp(-2*x)/4"
      ],
      "text/latex": "$\\displaystyle \\frac{\\left(- 2 x - 1\\right) e^{- 2 x}}{4}$"
     },
     "metadata": {},
     "execution_count": 3
    }
   ],
   "source": [
    "integrate(x * exp(-2 * x))"
   ]
  },
  {
   "source": [
    "## Ejercicio 3\n",
    "\n",
    "Estudiar la continuidad de la función $f(x)$. Indicar para cada punto de discontinuidad si la discontinuidad es evitable, de salto finito, o infinita.\n",
    "\n",
    "$$\n",
    "f(x) = \\begin{cases}\n",
    "    \\frac{-x}{\\lvert x - 2 \\rvert} & x < 1 \\\\\n",
    "    \\frac{-2x}{3 - x} & x \\geq 1\n",
    "\\end{cases}\n",
    "$$\n",
    "\n",
    "Hacemos plot de la función"
   ],
   "cell_type": "markdown",
   "metadata": {}
  },
  {
   "cell_type": "code",
   "execution_count": 4,
   "metadata": {},
   "outputs": [
    {
     "output_type": "display_data",
     "data": {
      "text/plain": "<Figure size 432x288 with 1 Axes>",
      "image/svg+xml": "<?xml version=\"1.0\" encoding=\"utf-8\" standalone=\"no\"?>\n<!DOCTYPE svg PUBLIC \"-//W3C//DTD SVG 1.1//EN\"\n  \"http://www.w3.org/Graphics/SVG/1.1/DTD/svg11.dtd\">\n<!-- Created with matplotlib (https://matplotlib.org/) -->\n<svg height=\"231.84pt\" version=\"1.1\" viewBox=\"0 0 349.2 231.84\" width=\"349.2pt\" xmlns=\"http://www.w3.org/2000/svg\" xmlns:xlink=\"http://www.w3.org/1999/xlink\">\n <defs>\n  <style type=\"text/css\">\n*{stroke-linecap:butt;stroke-linejoin:round;}\n  </style>\n </defs>\n <g id=\"figure_1\">\n  <g id=\"patch_1\">\n   <path d=\"M 0 231.84 \nL 349.2 231.84 \nL 349.2 0 \nL 0 0 \nz\n\" style=\"fill:none;\"/>\n  </g>\n  <g id=\"axes_1\">\n   <g id=\"patch_2\">\n    <path d=\"M 7.2 224.64 \nL 342 224.64 \nL 342 7.2 \nL 7.2 7.2 \nz\n\" style=\"fill:#ffffff;\"/>\n   </g>\n   <g id=\"matplotlib.axis_1\">\n    <g id=\"xtick_1\">\n     <g id=\"line2d_1\">\n      <defs>\n       <path d=\"M 0 0 \nL 0 3.5 \n\" id=\"mbc87995705\" style=\"stroke:#000000;stroke-width:0.8;\"/>\n      </defs>\n      <g>\n       <use style=\"stroke:#000000;stroke-width:0.8;\" x=\"56.273981\" xlink:href=\"#mbc87995705\" y=\"116.472633\"/>\n      </g>\n     </g>\n     <g id=\"text_1\">\n      <!-- −2 -->\n      <defs>\n       <path d=\"M 10.59375 35.5 \nL 73.1875 35.5 \nL 73.1875 27.203125 \nL 10.59375 27.203125 \nz\n\" id=\"DejaVuSans-8722\"/>\n       <path d=\"M 19.1875 8.296875 \nL 53.609375 8.296875 \nL 53.609375 0 \nL 7.328125 0 \nL 7.328125 8.296875 \nQ 12.9375 14.109375 22.625 23.890625 \nQ 32.328125 33.6875 34.8125 36.53125 \nQ 39.546875 41.84375 41.421875 45.53125 \nQ 43.3125 49.21875 43.3125 52.78125 \nQ 43.3125 58.59375 39.234375 62.25 \nQ 35.15625 65.921875 28.609375 65.921875 \nQ 23.96875 65.921875 18.8125 64.3125 \nQ 13.671875 62.703125 7.8125 59.421875 \nL 7.8125 69.390625 \nQ 13.765625 71.78125 18.9375 73 \nQ 24.125 74.21875 28.421875 74.21875 \nQ 39.75 74.21875 46.484375 68.546875 \nQ 53.21875 62.890625 53.21875 53.421875 \nQ 53.21875 48.921875 51.53125 44.890625 \nQ 49.859375 40.875 45.40625 35.40625 \nQ 44.1875 33.984375 37.640625 27.21875 \nQ 31.109375 20.453125 19.1875 8.296875 \nz\n\" id=\"DejaVuSans-50\"/>\n      </defs>\n      <g transform=\"translate(48.902887 131.071071)scale(0.1 -0.1)\">\n       <use xlink:href=\"#DejaVuSans-8722\"/>\n       <use x=\"83.789062\" xlink:href=\"#DejaVuSans-50\"/>\n      </g>\n     </g>\n    </g>\n    <g id=\"xtick_2\">\n     <g id=\"line2d_2\">\n      <g>\n       <use style=\"stroke:#000000;stroke-width:0.8;\" x=\"123.98558\" xlink:href=\"#mbc87995705\" y=\"116.472633\"/>\n      </g>\n     </g>\n     <g id=\"text_2\">\n      <!-- 0 -->\n      <defs>\n       <path d=\"M 31.78125 66.40625 \nQ 24.171875 66.40625 20.328125 58.90625 \nQ 16.5 51.421875 16.5 36.375 \nQ 16.5 21.390625 20.328125 13.890625 \nQ 24.171875 6.390625 31.78125 6.390625 \nQ 39.453125 6.390625 43.28125 13.890625 \nQ 47.125 21.390625 47.125 36.375 \nQ 47.125 51.421875 43.28125 58.90625 \nQ 39.453125 66.40625 31.78125 66.40625 \nz\nM 31.78125 74.21875 \nQ 44.046875 74.21875 50.515625 64.515625 \nQ 56.984375 54.828125 56.984375 36.375 \nQ 56.984375 17.96875 50.515625 8.265625 \nQ 44.046875 -1.421875 31.78125 -1.421875 \nQ 19.53125 -1.421875 13.0625 8.265625 \nQ 6.59375 17.96875 6.59375 36.375 \nQ 6.59375 54.828125 13.0625 64.515625 \nQ 19.53125 74.21875 31.78125 74.21875 \nz\n\" id=\"DejaVuSans-48\"/>\n      </defs>\n      <g transform=\"translate(120.80433 131.071071)scale(0.1 -0.1)\">\n       <use xlink:href=\"#DejaVuSans-48\"/>\n      </g>\n     </g>\n    </g>\n    <g id=\"xtick_3\">\n     <g id=\"line2d_3\">\n      <g>\n       <use style=\"stroke:#000000;stroke-width:0.8;\" x=\"191.697179\" xlink:href=\"#mbc87995705\" y=\"116.472633\"/>\n      </g>\n     </g>\n     <g id=\"text_3\">\n      <!-- 2 -->\n      <g transform=\"translate(188.515929 131.071071)scale(0.1 -0.1)\">\n       <use xlink:href=\"#DejaVuSans-50\"/>\n      </g>\n     </g>\n    </g>\n    <g id=\"xtick_4\">\n     <g id=\"line2d_4\">\n      <g>\n       <use style=\"stroke:#000000;stroke-width:0.8;\" x=\"259.408777\" xlink:href=\"#mbc87995705\" y=\"116.472633\"/>\n      </g>\n     </g>\n     <g id=\"text_4\">\n      <!-- 4 -->\n      <defs>\n       <path d=\"M 37.796875 64.3125 \nL 12.890625 25.390625 \nL 37.796875 25.390625 \nz\nM 35.203125 72.90625 \nL 47.609375 72.90625 \nL 47.609375 25.390625 \nL 58.015625 25.390625 \nL 58.015625 17.1875 \nL 47.609375 17.1875 \nL 47.609375 0 \nL 37.796875 0 \nL 37.796875 17.1875 \nL 4.890625 17.1875 \nL 4.890625 26.703125 \nz\n\" id=\"DejaVuSans-52\"/>\n      </defs>\n      <g transform=\"translate(256.227527 131.071071)scale(0.1 -0.1)\">\n       <use xlink:href=\"#DejaVuSans-52\"/>\n      </g>\n     </g>\n    </g>\n    <g id=\"xtick_5\">\n     <g id=\"line2d_5\">\n      <g>\n       <use style=\"stroke:#000000;stroke-width:0.8;\" x=\"327.120376\" xlink:href=\"#mbc87995705\" y=\"116.472633\"/>\n      </g>\n     </g>\n     <g id=\"text_5\">\n      <!-- 6 -->\n      <defs>\n       <path d=\"M 33.015625 40.375 \nQ 26.375 40.375 22.484375 35.828125 \nQ 18.609375 31.296875 18.609375 23.390625 \nQ 18.609375 15.53125 22.484375 10.953125 \nQ 26.375 6.390625 33.015625 6.390625 \nQ 39.65625 6.390625 43.53125 10.953125 \nQ 47.40625 15.53125 47.40625 23.390625 \nQ 47.40625 31.296875 43.53125 35.828125 \nQ 39.65625 40.375 33.015625 40.375 \nz\nM 52.59375 71.296875 \nL 52.59375 62.3125 \nQ 48.875 64.0625 45.09375 64.984375 \nQ 41.3125 65.921875 37.59375 65.921875 \nQ 27.828125 65.921875 22.671875 59.328125 \nQ 17.53125 52.734375 16.796875 39.40625 \nQ 19.671875 43.65625 24.015625 45.921875 \nQ 28.375 48.1875 33.59375 48.1875 \nQ 44.578125 48.1875 50.953125 41.515625 \nQ 57.328125 34.859375 57.328125 23.390625 \nQ 57.328125 12.15625 50.6875 5.359375 \nQ 44.046875 -1.421875 33.015625 -1.421875 \nQ 20.359375 -1.421875 13.671875 8.265625 \nQ 6.984375 17.96875 6.984375 36.375 \nQ 6.984375 53.65625 15.1875 63.9375 \nQ 23.390625 74.21875 37.203125 74.21875 \nQ 40.921875 74.21875 44.703125 73.484375 \nQ 48.484375 72.75 52.59375 71.296875 \nz\n\" id=\"DejaVuSans-54\"/>\n      </defs>\n      <g transform=\"translate(323.939126 131.071071)scale(0.1 -0.1)\">\n       <use xlink:href=\"#DejaVuSans-54\"/>\n      </g>\n     </g>\n    </g>\n   </g>\n   <g id=\"matplotlib.axis_2\">\n    <g id=\"ytick_1\">\n     <g id=\"line2d_6\">\n      <defs>\n       <path d=\"M 0 0 \nL -3.5 0 \n\" id=\"m6d6d6f24c0\" style=\"stroke:#000000;stroke-width:0.8;\"/>\n      </defs>\n      <g>\n       <use style=\"stroke:#000000;stroke-width:0.8;\" x=\"123.98558\" xlink:href=\"#m6d6d6f24c0\" y=\"217.647062\"/>\n      </g>\n     </g>\n     <g id=\"text_6\">\n      <!-- −20 -->\n      <g transform=\"translate(95.880892 221.44628)scale(0.1 -0.1)\">\n       <use xlink:href=\"#DejaVuSans-8722\"/>\n       <use x=\"83.789062\" xlink:href=\"#DejaVuSans-50\"/>\n       <use x=\"147.412109\" xlink:href=\"#DejaVuSans-48\"/>\n      </g>\n     </g>\n    </g>\n    <g id=\"ytick_2\">\n     <g id=\"line2d_7\">\n      <g>\n       <use style=\"stroke:#000000;stroke-width:0.8;\" x=\"123.98558\" xlink:href=\"#m6d6d6f24c0\" y=\"192.353455\"/>\n      </g>\n     </g>\n     <g id=\"text_7\">\n      <!-- −15 -->\n      <defs>\n       <path d=\"M 12.40625 8.296875 \nL 28.515625 8.296875 \nL 28.515625 63.921875 \nL 10.984375 60.40625 \nL 10.984375 69.390625 \nL 28.421875 72.90625 \nL 38.28125 72.90625 \nL 38.28125 8.296875 \nL 54.390625 8.296875 \nL 54.390625 0 \nL 12.40625 0 \nz\n\" id=\"DejaVuSans-49\"/>\n       <path d=\"M 10.796875 72.90625 \nL 49.515625 72.90625 \nL 49.515625 64.59375 \nL 19.828125 64.59375 \nL 19.828125 46.734375 \nQ 21.96875 47.46875 24.109375 47.828125 \nQ 26.265625 48.1875 28.421875 48.1875 \nQ 40.625 48.1875 47.75 41.5 \nQ 54.890625 34.8125 54.890625 23.390625 \nQ 54.890625 11.625 47.5625 5.09375 \nQ 40.234375 -1.421875 26.90625 -1.421875 \nQ 22.3125 -1.421875 17.546875 -0.640625 \nQ 12.796875 0.140625 7.71875 1.703125 \nL 7.71875 11.625 \nQ 12.109375 9.234375 16.796875 8.0625 \nQ 21.484375 6.890625 26.703125 6.890625 \nQ 35.15625 6.890625 40.078125 11.328125 \nQ 45.015625 15.765625 45.015625 23.390625 \nQ 45.015625 31 40.078125 35.4375 \nQ 35.15625 39.890625 26.703125 39.890625 \nQ 22.75 39.890625 18.8125 39.015625 \nQ 14.890625 38.140625 10.796875 36.28125 \nz\n\" id=\"DejaVuSans-53\"/>\n      </defs>\n      <g transform=\"translate(95.880892 196.152673)scale(0.1 -0.1)\">\n       <use xlink:href=\"#DejaVuSans-8722\"/>\n       <use x=\"83.789062\" xlink:href=\"#DejaVuSans-49\"/>\n       <use x=\"147.412109\" xlink:href=\"#DejaVuSans-53\"/>\n      </g>\n     </g>\n    </g>\n    <g id=\"ytick_3\">\n     <g id=\"line2d_8\">\n      <g>\n       <use style=\"stroke:#000000;stroke-width:0.8;\" x=\"123.98558\" xlink:href=\"#m6d6d6f24c0\" y=\"167.059848\"/>\n      </g>\n     </g>\n     <g id=\"text_8\">\n      <!-- −10 -->\n      <g transform=\"translate(95.880892 170.859066)scale(0.1 -0.1)\">\n       <use xlink:href=\"#DejaVuSans-8722\"/>\n       <use x=\"83.789062\" xlink:href=\"#DejaVuSans-49\"/>\n       <use x=\"147.412109\" xlink:href=\"#DejaVuSans-48\"/>\n      </g>\n     </g>\n    </g>\n    <g id=\"ytick_4\">\n     <g id=\"line2d_9\">\n      <g>\n       <use style=\"stroke:#000000;stroke-width:0.8;\" x=\"123.98558\" xlink:href=\"#m6d6d6f24c0\" y=\"141.76624\"/>\n      </g>\n     </g>\n     <g id=\"text_9\">\n      <!-- −5 -->\n      <g transform=\"translate(102.243392 145.565459)scale(0.1 -0.1)\">\n       <use xlink:href=\"#DejaVuSans-8722\"/>\n       <use x=\"83.789062\" xlink:href=\"#DejaVuSans-53\"/>\n      </g>\n     </g>\n    </g>\n    <g id=\"ytick_5\">\n     <g id=\"line2d_10\">\n      <g>\n       <use style=\"stroke:#000000;stroke-width:0.8;\" x=\"123.98558\" xlink:href=\"#m6d6d6f24c0\" y=\"116.472633\"/>\n      </g>\n     </g>\n     <g id=\"text_10\">\n      <!-- 0 -->\n      <g transform=\"translate(110.62308 120.271852)scale(0.1 -0.1)\">\n       <use xlink:href=\"#DejaVuSans-48\"/>\n      </g>\n     </g>\n    </g>\n    <g id=\"ytick_6\">\n     <g id=\"line2d_11\">\n      <g>\n       <use style=\"stroke:#000000;stroke-width:0.8;\" x=\"123.98558\" xlink:href=\"#m6d6d6f24c0\" y=\"91.179026\"/>\n      </g>\n     </g>\n     <g id=\"text_11\">\n      <!-- 5 -->\n      <g transform=\"translate(110.62308 94.978245)scale(0.1 -0.1)\">\n       <use xlink:href=\"#DejaVuSans-53\"/>\n      </g>\n     </g>\n    </g>\n    <g id=\"ytick_7\">\n     <g id=\"line2d_12\">\n      <g>\n       <use style=\"stroke:#000000;stroke-width:0.8;\" x=\"123.98558\" xlink:href=\"#m6d6d6f24c0\" y=\"65.885419\"/>\n      </g>\n     </g>\n     <g id=\"text_12\">\n      <!-- 10 -->\n      <g transform=\"translate(104.26058 69.684638)scale(0.1 -0.1)\">\n       <use xlink:href=\"#DejaVuSans-49\"/>\n       <use x=\"63.623047\" xlink:href=\"#DejaVuSans-48\"/>\n      </g>\n     </g>\n    </g>\n    <g id=\"ytick_8\">\n     <g id=\"line2d_13\">\n      <g>\n       <use style=\"stroke:#000000;stroke-width:0.8;\" x=\"123.98558\" xlink:href=\"#m6d6d6f24c0\" y=\"40.591812\"/>\n      </g>\n     </g>\n     <g id=\"text_13\">\n      <!-- 15 -->\n      <g transform=\"translate(104.26058 44.391031)scale(0.1 -0.1)\">\n       <use xlink:href=\"#DejaVuSans-49\"/>\n       <use x=\"63.623047\" xlink:href=\"#DejaVuSans-53\"/>\n      </g>\n     </g>\n    </g>\n    <g id=\"ytick_9\">\n     <g id=\"line2d_14\">\n      <g>\n       <use style=\"stroke:#000000;stroke-width:0.8;\" x=\"123.98558\" xlink:href=\"#m6d6d6f24c0\" y=\"15.298205\"/>\n      </g>\n     </g>\n     <g id=\"text_14\">\n      <!-- 20 -->\n      <g transform=\"translate(104.26058 19.097424)scale(0.1 -0.1)\">\n       <use xlink:href=\"#DejaVuSans-50\"/>\n       <use x=\"63.623047\" xlink:href=\"#DejaVuSans-48\"/>\n      </g>\n     </g>\n    </g>\n   </g>\n   <g id=\"line2d_15\">\n    <path clip-path=\"url(#p3488888efb)\" d=\"M 22.418182 113.437401 \nL 57.628213 113.968822 \nL 82.681505 114.555975 \nL 101.302194 115.203216 \nL 115.52163 115.910553 \nL 126.694044 116.683413 \nL 135.496552 117.508757 \nL 142.60627 118.391459 \nL 148.361755 119.318164 \nL 153.101567 120.288862 \nL 157.164263 121.332974 \nL 157.502821 121.431182 \nL 157.502821 121.431182 \n\" style=\"fill:none;stroke:#1f77b4;stroke-linecap:square;stroke-width:1.5;\"/>\n   </g>\n   <g id=\"line2d_16\">\n    <path clip-path=\"url(#p3488888efb)\" d=\"M 157.841379 121.531355 \nL 163.596865 122.941162 \nL 168.675235 124.422053 \nL 173.076489 125.937338 \nL 177.139185 127.580595 \nL 180.524765 129.17649 \nL 183.571787 130.832875 \nL 186.618809 132.74852 \nL 189.327273 134.721853 \nL 191.697179 136.707519 \nL 194.067085 138.992103 \nL 196.098433 141.242924 \nL 198.129781 143.827201 \nL 200.161129 146.824962 \nL 201.853918 149.71566 \nL 203.546708 153.051081 \nL 205.239498 156.942405 \nL 206.59373 160.555777 \nL 207.947962 164.725053 \nL 209.302194 169.589208 \nL 210.656426 175.337755 \nL 212.010658 182.236012 \nL 213.026332 188.388511 \nL 214.042006 195.626745 \nL 215.05768 204.265928 \nL 216.073354 214.756364 \nM 237.06395 17.083636 \nL 238.418182 26.480642 \nL 239.772414 34.087742 \nL 241.126646 40.371868 \nL 242.480878 45.650534 \nL 243.83511 50.147175 \nL 245.5279 54.910566 \nL 247.22069 58.929677 \nL 248.91348 62.366309 \nL 250.60627 65.338531 \nL 252.637618 68.41478 \nL 254.668966 71.061785 \nL 256.700313 73.363529 \nL 259.070219 75.696273 \nL 261.440125 77.720918 \nL 264.148589 79.730341 \nL 266.857053 81.476233 \nL 269.904075 83.185474 \nL 273.289655 84.828717 \nL 277.013793 86.386553 \nL 281.076489 87.847673 \nL 285.816301 89.303321 \nL 290.894671 90.628596 \nL 296.650157 91.901701 \nL 303.421317 93.158526 \nL 310.869592 94.310616 \nL 319.6721 95.437087 \nL 326.781818 96.20391 \nL 326.781818 96.20391 \n\" style=\"fill:none;stroke:#ff7f0e;stroke-linecap:square;stroke-width:1.5;\"/>\n   </g>\n   <g id=\"patch_3\">\n    <path d=\"M 123.98558 224.64 \nL 123.98558 7.2 \n\" style=\"fill:none;stroke:#000000;stroke-linecap:square;stroke-linejoin:miter;stroke-width:0.8;\"/>\n   </g>\n   <g id=\"patch_4\">\n    <path d=\"M 342 224.64 \nL 342 7.2 \n\" style=\"fill:none;\"/>\n   </g>\n   <g id=\"patch_5\">\n    <path d=\"M 7.2 116.472633 \nL 342 116.472633 \n\" style=\"fill:none;stroke:#000000;stroke-linecap:square;stroke-linejoin:miter;stroke-width:0.8;\"/>\n   </g>\n   <g id=\"patch_6\">\n    <path d=\"M 7.2 7.2 \nL 342 7.2 \n\" style=\"fill:none;\"/>\n   </g>\n  </g>\n </g>\n <defs>\n  <clipPath id=\"p3488888efb\">\n   <rect height=\"217.44\" width=\"334.8\" x=\"7.2\" y=\"7.2\"/>\n  </clipPath>\n </defs>\n</svg>\n",
      "image/png": "[encoded data removed]"
     },
     "metadata": {
      "needs_background": "light"
     }
    }
   ],
   "source": [
    "import matplotlib.pyplot as plt \n",
    "import numpy as np\n",
    "\n",
    "fig = plt.figure(1) \n",
    "ax = fig.add_subplot(111) \n",
    "\n",
    "# set up axis \n",
    "ax.spines['left'].set_position('zero') \n",
    "ax.spines['right'].set_color('none') \n",
    "ax.spines['bottom'].set_position('zero') \n",
    "ax.spines['top'].set_color('none') \n",
    "ax.xaxis.set_ticks_position('bottom') \n",
    "ax.yaxis.set_ticks_position('left') \n",
    "\n",
    "# setup x and y ranges and precision\n",
    "xx1 = np.arange(-3, 1, 0.01) \n",
    "xx2 = np.arange(1, 6, 0.01) \n",
    "\n",
    "# draw my curve \n",
    "f1 = (- x)/(abs(x - 2))\n",
    "f2 = (- 2 * x)/(3 - x)\n",
    "mf1 = sympify(f1)\n",
    "mf2 = sympify(f2) \n",
    "\n",
    "mlf1 = lambdify(x, mf1, 'numpy')\n",
    "mlf2 = lambdify(x, mf2, 'numpy')\n",
    "\n",
    "ub, lb = 20, -20\n",
    "\n",
    "fplot1 = mlf1(xx1)\n",
    "fplot1[fplot1 > ub] = np.inf\n",
    "fplot1[fplot1 < lb] = -np.inf\n",
    "\n",
    "fplot2 = mlf2(xx2)\n",
    "fplot2[fplot2 > ub] = np.inf\n",
    "fplot2[fplot2 < lb] = -np.inf\n",
    "\n",
    "ax.plot(xx1, fplot1) \n",
    "ax.plot(xx2, fplot2)\n",
    "\n",
    "plt.show()"
   ]
  },
  {
   "source": [
    "La función va a ser contínua en todo su dominio excepto en $x = 3$. Para demostrarlo:\n",
    "\n",
    "1. La primera parte de $f(x)$ es contínua $\\forall x\\in\\mathbb{R} : x \\neq 2$ pero $x = 2$ no entra en la parte del dominio para esa función, por lo tanto no hay problemas.\n",
    "2. La segunda parte de $f(x)$ es discontínua en $x = 3$. Tendremos que estudiar la discontinuidad en ese punto.\n",
    "3. Por último, hay que estudiar qué ocurre en $x = 1$ donde se unen las dos funciones."
   ],
   "cell_type": "markdown",
   "metadata": {}
  },
  {
   "cell_type": "code",
   "execution_count": 5,
   "metadata": {},
   "outputs": [
    {
     "output_type": "display_data",
     "data": {
      "text/plain": "Eq(Limit(-x/Abs(x - 2), x, 1, dir='-'), -1)",
      "text/latex": "$\\displaystyle \\lim_{x \\to 1^-}\\left(- \\frac{x}{\\left|{x - 2}\\right|}\\right) = -1$"
     },
     "metadata": {}
    }
   ],
   "source": [
    "from IPython.display import display\n",
    "\n",
    "lim1 = Limit(f1, x, 1, '-')\n",
    "lim1r = Limit(f1, x, 1, '-').doit()\n",
    "\n",
    "display(Eq(lim1, lim1r))"
   ]
  },
  {
   "cell_type": "code",
   "execution_count": 6,
   "metadata": {},
   "outputs": [
    {
     "output_type": "display_data",
     "data": {
      "text/plain": "Eq(Limit(-2*x/(3 - x), x, 1), -1)",
      "text/latex": "$\\displaystyle \\lim_{x \\to 1^+}\\left(- \\frac{2 x}{3 - x}\\right) = -1$"
     },
     "metadata": {}
    }
   ],
   "source": [
    "lim2 = Limit(f2, x, 1, '+')\n",
    "lim2r = Limit(f2, x, 1, '+').doit()\n",
    "\n",
    "display(Eq(lim2, lim2r))"
   ]
  },
  {
   "cell_type": "code",
   "execution_count": 7,
   "metadata": {},
   "outputs": [
    {
     "output_type": "display_data",
     "data": {
      "text/plain": "Eq(Limit(-2*x/(3 - x), x, 3, dir='-'), -oo)",
      "text/latex": "$\\displaystyle \\lim_{x \\to 3^-}\\left(- \\frac{2 x}{3 - x}\\right) = -\\infty$"
     },
     "metadata": {}
    }
   ],
   "source": [
    "lim1 = Limit(f2, x, 3, '-')\n",
    "lim1r = Limit(f2, x, 3, '-').doit()\n",
    "\n",
    "display(Eq(lim1, lim1r))"
   ]
  },
  {
   "cell_type": "code",
   "execution_count": 9,
   "metadata": {},
   "outputs": [
    {
     "output_type": "display_data",
     "data": {
      "text/plain": "Eq(Limit(-2*x/(3 - x), x, 3), oo)",
      "text/latex": "$\\displaystyle \\lim_{x \\to 3^+}\\left(- \\frac{2 x}{3 - x}\\right) = \\infty$"
     },
     "metadata": {}
    }
   ],
   "source": [
    "lim2 = Limit(f2, x, 3, '+')\n",
    "lim2r = Limit(f2, x, 3, '+').doit()\n",
    "\n",
    "display(Eq(lim2, lim2r))"
   ]
  },
  {
   "source": [
    "La función es contínua en $x = 1$ y discontínua en $x = 3$. Como un límite lateral va a $-\\infty$ y el otro a $+\\infty$, la discontinuidad de $x = 3$ es de salto infinito."
   ],
   "cell_type": "markdown",
   "metadata": {}
  },
  {
   "source": [
    "## Ejercicio 4\n",
    "\n",
    "Dado el sistema \n",
    "\n",
    "$$\n",
    "\\begin{cases}\n",
    "x + y + z = 5 \\\\\n",
    "2x - y + z = 2\\lambda \\\\\n",
    "-3x + 3y - z = \\lambda\n",
    "\\end{cases}\n",
    "$$\n",
    "\n",
    "- Valores de $\\lambda$ para que el sistema sea compatible.\n",
    "- Valores de $\\lambda$ para que el sistema sea compatible indeterminado.\n",
    "- Valores de $\\lambda$ para que el sistema sea compatible determinado.\n",
    "- Resolver para el caso de compatible indeterminado."
   ],
   "cell_type": "markdown",
   "metadata": {}
  },
  {
   "cell_type": "code",
   "execution_count": 14,
   "metadata": {},
   "outputs": [
    {
     "output_type": "display_data",
     "data": {
      "text/plain": "Eq(Matrix([\n[ 1,  1,  1],\n[ 2, -1,  1],\n[-3,  3, -1]])*Matrix([\n[x],\n[y],\n[z]]), Matrix([\n[        5],\n[2*\\lambda],\n[  \\lambda]]))",
      "text/latex": "$\\displaystyle \\left[\\begin{matrix}1 & 1 & 1\\\\2 & -1 & 1\\\\-3 & 3 & -1\\end{matrix}\\right] \\left[\\begin{matrix}x\\\\y\\\\z\\end{matrix}\\right] = \\left[\\begin{matrix}5\\\\2 \\lambda\\\\\\lambda\\end{matrix}\\right]$"
     },
     "metadata": {}
    }
   ],
   "source": [
    "x, y, z, ll = symbols('x y z \\lambda')\n",
    "\n",
    "A = Matrix([[1, 1, 1], [2, -1 , 1], [-3, 3, -1]])\n",
    "b = Matrix([[5], [2 * ll], [ll]])\n",
    "xv = Matrix([[x], [y], [z]])\n",
    "\n",
    "display(Eq(MatMul(A, xv), b))"
   ]
  },
  {
   "cell_type": "code",
   "execution_count": 18,
   "metadata": {},
   "outputs": [
    {
     "output_type": "stream",
     "name": "stdout",
     "text": [
      "The determinant of matrix A is 0\nThe rank of matrix A is 2\n"
     ]
    }
   ],
   "source": [
    "print(f'The determinant of matrix A is {A.det()}')\n",
    "print(f'The rank of matrix A is {A.rank()}')"
   ]
  },
  {
   "source": [
    "Por lo tanto, el sistema no puede ser compatible determinado para ningún valor de $\\lambda$. El sistema será compatible cuando $rk([A, b]) = 2$, es decir, cuando el vector $b$ sea una combinación lineal de los vectores en $A$."
   ],
   "cell_type": "markdown",
   "metadata": {}
  },
  {
   "cell_type": "code",
   "execution_count": 20,
   "metadata": {},
   "outputs": [
    {
     "output_type": "execute_result",
     "data": {
      "text/plain": [
       "Matrix([\n",
       "[ 1,  1,  1,         5],\n",
       "[ 2, -1,  1, 2*\\lambda],\n",
       "[-3,  3, -1,   \\lambda]])"
      ],
      "text/latex": "$\\displaystyle \\left[\\begin{matrix}1 & 1 & 1 & 5\\\\2 & -1 & 1 & 2 \\lambda\\\\-3 & 3 & -1 & \\lambda\\end{matrix}\\right]$"
     },
     "metadata": {},
     "execution_count": 20
    }
   ],
   "source": [
    " Ab = A.col_insert(3, b)\n",
    " Ab"
   ]
  },
  {
   "cell_type": "code",
   "execution_count": 22,
   "metadata": {},
   "outputs": [
    {
     "output_type": "execute_result",
     "data": {
      "text/plain": [
       "Matrix([\n",
       "[1,  1,  1,               5],\n",
       "[0, -3, -1,  2*\\lambda - 10],\n",
       "[0,  0,  0, 15 - 15*\\lambda]])"
      ],
      "text/latex": "$\\displaystyle \\left[\\begin{matrix}1 & 1 & 1 & 5\\\\0 & -3 & -1 & 2 \\lambda - 10\\\\0 & 0 & 0 & 15 - 15 \\lambda\\end{matrix}\\right]$"
     },
     "metadata": {},
     "execution_count": 22
    }
   ],
   "source": [
    "Ab.echelon_form()"
   ]
  },
  {
   "source": [
    "To get $[A, b]$ in row-echelon form, perform the following operations:\n",
    "\n",
    "1. $F_3 = F_3 + 3F_1$\n",
    "2. $F_2 = F_2 - 2F_1$\n",
    "3. $F_3 = F_3 + 2F_2$\n",
    "\n",
    "And we get the previous matrix.\n",
    "\n",
    "The rank of $[A, b]$ is equal to $2$ iff $\\lambda = 1$, since the last row would not have elements distinct from $0$."
   ],
   "cell_type": "markdown",
   "metadata": {}
  },
  {
   "source": [
    "Resumen:\n",
    "\n",
    "1. Para $\\lambda = 1$ el sistema es compatible.\n",
    "2. Para $\\lambda = 1$ el sistema es compatible indeterminado.\n",
    "3. El sistema **no** es compatible determinado para ningún valor de $\\lambda$.\n",
    "4. La solución para el sistema cuando es compatible indeterminado es:"
   ],
   "cell_type": "markdown",
   "metadata": {}
  },
  {
   "cell_type": "code",
   "execution_count": 38,
   "metadata": {},
   "outputs": [
    {
     "output_type": "execute_result",
     "data": {
      "text/plain": [
       "FiniteSet((7/3 - 2*z/3, 8/3 - z/3, z))"
      ],
      "text/latex": "$\\displaystyle \\left\\{\\left( \\frac{7}{3} - \\frac{2 z}{3}, \\  \\frac{8}{3} - \\frac{z}{3}, \\  z\\right)\\right\\}$"
     },
     "metadata": {},
     "execution_count": 38
    }
   ],
   "source": [
    "linsolve(Ab.subs(ll, 1), x, y, z)"
   ]
  },
  {
   "source": [
    "## Ejercicio 5\n",
    "\n",
    "Dada $f(x) = (x+2)(x-3)^2$\n",
    "\n",
    "1. Calcular zonas de crecimiento y decrecimiento, y los máximos y mínimos locales, si los hay.\n",
    "2. Calcular zonas de concavidad y convexidad y los puntos de inflexión, si los hay.\n",
    "3. Calcular los puntos de corte con los ejes y los límites cuando $x\\rightarrow\\pm\\infty$. \n",
    "4. Representar gráficamente la función."
   ],
   "cell_type": "markdown",
   "metadata": {}
  },
  {
   "source": [
    "Primero calculamos la derivada que es igual a"
   ],
   "cell_type": "markdown",
   "metadata": {}
  },
  {
   "cell_type": "code",
   "execution_count": 43,
   "metadata": {},
   "outputs": [
    {
     "output_type": "execute_result",
     "data": {
      "text/plain": [
       "3*x**2 - 8*x - 3"
      ],
      "text/latex": "$\\displaystyle 3 x^{2} - 8 x - 3$"
     },
     "metadata": {},
     "execution_count": 43
    }
   ],
   "source": [
    "x = Symbol('x')\n",
    "fx = (x + 2) * (x - 3)**2\n",
    "fprime = Derivative(fx, x)\n",
    "fprime.doit().expand()"
   ]
  },
  {
   "source": [
    "Vemos donde la derivada se hace $0$"
   ],
   "cell_type": "markdown",
   "metadata": {}
  },
  {
   "cell_type": "code",
   "execution_count": 49,
   "metadata": {},
   "outputs": [
    {
     "output_type": "execute_result",
     "data": {
      "text/plain": [
       "FiniteSet(-1/3, 3)"
      ],
      "text/latex": "$\\displaystyle \\left\\{- \\frac{1}{3}, 3\\right\\}$"
     },
     "metadata": {},
     "execution_count": 49
    }
   ],
   "source": [
    "solveset(Eq(fprime.doit(), 0), x).doit()"
   ]
  },
  {
   "source": [
    "Para $x = \\frac{-1}{3}$ y $x = 3$ la derivada es $0$. Tenemos que comprobar el signo de la derivada en los intervalos:\n",
    "\n",
    "- $(-\\infty, \\frac{-1}{3})$\n",
    "- $(\\frac{-1}{3}, 3)$\n",
    "- $(3, +\\infty)$"
   ],
   "cell_type": "markdown",
   "metadata": {}
  },
  {
   "cell_type": "code",
   "execution_count": 53,
   "metadata": {},
   "outputs": [
    {
     "output_type": "execute_result",
     "data": {
      "text/plain": [
       "3.66666666666666"
      ],
      "text/latex": "$\\displaystyle 3.66666666666666$"
     },
     "metadata": {},
     "execution_count": 53
    }
   ],
   "source": [
    "fprime.doit().subs(x, -2/3)"
   ]
  },
  {
   "cell_type": "code",
   "execution_count": 54,
   "metadata": {},
   "outputs": [
    {
     "output_type": "execute_result",
     "data": {
      "text/plain": [
       "-3"
      ],
      "text/latex": "$\\displaystyle -3$"
     },
     "metadata": {},
     "execution_count": 54
    }
   ],
   "source": [
    "fprime.doit().subs(x, 0)"
   ]
  },
  {
   "cell_type": "code",
   "execution_count": 55,
   "metadata": {},
   "outputs": [
    {
     "output_type": "execute_result",
     "data": {
      "text/plain": [
       "13"
      ],
      "text/latex": "$\\displaystyle 13$"
     },
     "metadata": {},
     "execution_count": 55
    }
   ],
   "source": [
    "fprime.doit().subs(x, 4)"
   ]
  },
  {
   "source": [
    "Como la derivada es positiva en el intervalo $\\left(-\\infty, \\frac{-1}{3}\\right)\\cup\\left(3, +\\infty\\right)$, la función es creciente en ellos. Como la derivada es negativa en el intervalo $\\left(\\frac{-1}{3}, 3\\right)$ la función decrece en el intervalo.\n",
    "\n",
    "Para ver dónde hay máximos o mínimos, tenemos que ver dónde la derivada es $0$, que ya lo hemos calculado. Como la función es creciente hasta $-1/3$ y luego decrece, hay un máximo en $x = -1/3$ y, por el mismo razonamiento, hay un mínimo en $x = 3$.\n",
    "\n",
    "**Calcular convexidad/concavidad**\n",
    "\n",
    "Calculamos la segunda derivada y la igualamos a $0$ para obtener"
   ],
   "cell_type": "markdown",
   "metadata": {}
  },
  {
   "cell_type": "code",
   "execution_count": 59,
   "metadata": {},
   "outputs": [
    {
     "output_type": "execute_result",
     "data": {
      "text/plain": [
       "FiniteSet(4/3)"
      ],
      "text/latex": "$\\displaystyle \\left\\{\\frac{4}{3}\\right\\}$"
     },
     "metadata": {},
     "execution_count": 59
    }
   ],
   "source": [
    "fp2 = diff(fx, x, 2)\n",
    "solveset(Eq(fp2, 0), x)"
   ]
  },
  {
   "cell_type": "code",
   "execution_count": 60,
   "metadata": {},
   "outputs": [
    {
     "output_type": "execute_result",
     "data": {
      "text/plain": [
       "-8"
      ],
      "text/latex": "$\\displaystyle -8$"
     },
     "metadata": {},
     "execution_count": 60
    }
   ],
   "source": [
    "fp2.subs(x, 0)"
   ]
  },
  {
   "cell_type": "code",
   "execution_count": 62,
   "metadata": {},
   "outputs": [
    {
     "output_type": "execute_result",
     "data": {
      "text/plain": [
       "22"
      ],
      "text/latex": "$\\displaystyle 22$"
     },
     "metadata": {},
     "execution_count": 62
    }
   ],
   "source": [
    "fp2.subs(x, 5)"
   ]
  },
  {
   "source": [
    "Como la segunda derivada es negativa desde $\\left(-\\infty, 4/3\\right)$ y positiva desde $(4/3, \\infty)$, la función es cóncava en el primer intervalo y convexa en el segundo. \n",
    "\n",
    "**Puntos de corte con los ejes**\n",
    "\n",
    "Para calcular los puntos de corte, tenemos que calcular $f(0)$ y $f(x) = 0$."
   ],
   "cell_type": "markdown",
   "metadata": {}
  },
  {
   "cell_type": "code",
   "execution_count": 63,
   "metadata": {},
   "outputs": [
    {
     "output_type": "execute_result",
     "data": {
      "text/plain": [
       "18"
      ],
      "text/latex": "$\\displaystyle 18$"
     },
     "metadata": {},
     "execution_count": 63
    }
   ],
   "source": [
    "fx.subs(x, 0)"
   ]
  },
  {
   "source": [
    "Punto de corte con el eje $y$, es $(0, 18)$."
   ],
   "cell_type": "markdown",
   "metadata": {}
  },
  {
   "cell_type": "code",
   "execution_count": 64,
   "metadata": {},
   "outputs": [
    {
     "output_type": "execute_result",
     "data": {
      "text/plain": [
       "FiniteSet(-2, 3)"
      ],
      "text/latex": "$\\displaystyle \\left\\{-2, 3\\right\\}$"
     },
     "metadata": {},
     "execution_count": 64
    }
   ],
   "source": [
    "solveset(Eq(fx, 0), x)"
   ]
  },
  {
   "source": [
    "Puntos de corte con el eje $x$ son $(-2, 0)$ y $(3, 0)$.\n",
    "\n",
    "**Límites**"
   ],
   "cell_type": "markdown",
   "metadata": {}
  },
  {
   "cell_type": "code",
   "execution_count": 65,
   "metadata": {},
   "outputs": [
    {
     "output_type": "execute_result",
     "data": {
      "text/plain": [
       "oo"
      ],
      "text/latex": "$\\displaystyle \\infty$"
     },
     "metadata": {},
     "execution_count": 65
    }
   ],
   "source": [
    "limit(fx, x, oo)"
   ]
  },
  {
   "cell_type": "code",
   "execution_count": 66,
   "metadata": {},
   "outputs": [
    {
     "output_type": "execute_result",
     "data": {
      "text/plain": [
       "-oo"
      ],
      "text/latex": "$\\displaystyle -\\infty$"
     },
     "metadata": {},
     "execution_count": 66
    }
   ],
   "source": [
    "limit(fx, x, -oo)"
   ]
  },
  {
   "source": [
    "**Representación gráfica**"
   ],
   "cell_type": "markdown",
   "metadata": {}
  },
  {
   "cell_type": "code",
   "execution_count": 72,
   "metadata": {},
   "outputs": [
    {
     "output_type": "display_data",
     "data": {
      "text/plain": "<Figure size 432x288 with 1 Axes>",
      "image/svg+xml": "<?xml version=\"1.0\" encoding=\"utf-8\" standalone=\"no\"?>\n<!DOCTYPE svg PUBLIC \"-//W3C//DTD SVG 1.1//EN\"\n  \"http://www.w3.org/Graphics/SVG/1.1/DTD/svg11.dtd\">\n<!-- Created with matplotlib (https://matplotlib.org/) -->\n<svg height=\"231.84pt\" version=\"1.1\" viewBox=\"0 0 349.2 231.84\" width=\"349.2pt\" xmlns=\"http://www.w3.org/2000/svg\" xmlns:xlink=\"http://www.w3.org/1999/xlink\">\n <defs>\n  <style type=\"text/css\">\n*{stroke-linecap:butt;stroke-linejoin:round;}\n  </style>\n </defs>\n <g id=\"figure_1\">\n  <g id=\"patch_1\">\n   <path d=\"M 0 231.84 \nL 349.2 231.84 \nL 349.2 0 \nL 0 0 \nz\n\" style=\"fill:none;\"/>\n  </g>\n  <g id=\"axes_1\">\n   <g id=\"patch_2\">\n    <path d=\"M 7.2 224.64 \nL 342 224.64 \nL 342 7.2 \nL 7.2 7.2 \nz\n\" style=\"fill:#ffffff;\"/>\n   </g>\n   <g id=\"matplotlib.axis_1\">\n    <g id=\"xtick_1\">\n     <g id=\"line2d_1\">\n      <defs>\n       <path d=\"M 0 0 \nL 0 3.5 \n\" id=\"m4bf86dccc4\" style=\"stroke:#000000;stroke-width:0.8;\"/>\n      </defs>\n      <g>\n       <use style=\"stroke:#000000;stroke-width:0.8;\" x=\"23.000139\" xlink:href=\"#m4bf86dccc4\" y=\"116.083144\"/>\n      </g>\n     </g>\n     <g id=\"text_1\">\n      <!-- −4 -->\n      <defs>\n       <path d=\"M 10.59375 35.5 \nL 73.1875 35.5 \nL 73.1875 27.203125 \nL 10.59375 27.203125 \nz\n\" id=\"DejaVuSans-8722\"/>\n       <path d=\"M 37.796875 64.3125 \nL 12.890625 25.390625 \nL 37.796875 25.390625 \nz\nM 35.203125 72.90625 \nL 47.609375 72.90625 \nL 47.609375 25.390625 \nL 58.015625 25.390625 \nL 58.015625 17.1875 \nL 47.609375 17.1875 \nL 47.609375 0 \nL 37.796875 0 \nL 37.796875 17.1875 \nL 4.890625 17.1875 \nL 4.890625 26.703125 \nz\n\" id=\"DejaVuSans-52\"/>\n      </defs>\n      <g transform=\"translate(15.629045 130.681582)scale(0.1 -0.1)\">\n       <use xlink:href=\"#DejaVuSans-8722\"/>\n       <use x=\"83.789062\" xlink:href=\"#DejaVuSans-52\"/>\n      </g>\n     </g>\n    </g>\n    <g id=\"xtick_2\">\n     <g id=\"line2d_2\">\n      <g>\n       <use style=\"stroke:#000000;stroke-width:0.8;\" x=\"81.195863\" xlink:href=\"#m4bf86dccc4\" y=\"116.083144\"/>\n      </g>\n     </g>\n     <g id=\"text_2\">\n      <!-- −2 -->\n      <defs>\n       <path d=\"M 19.1875 8.296875 \nL 53.609375 8.296875 \nL 53.609375 0 \nL 7.328125 0 \nL 7.328125 8.296875 \nQ 12.9375 14.109375 22.625 23.890625 \nQ 32.328125 33.6875 34.8125 36.53125 \nQ 39.546875 41.84375 41.421875 45.53125 \nQ 43.3125 49.21875 43.3125 52.78125 \nQ 43.3125 58.59375 39.234375 62.25 \nQ 35.15625 65.921875 28.609375 65.921875 \nQ 23.96875 65.921875 18.8125 64.3125 \nQ 13.671875 62.703125 7.8125 59.421875 \nL 7.8125 69.390625 \nQ 13.765625 71.78125 18.9375 73 \nQ 24.125 74.21875 28.421875 74.21875 \nQ 39.75 74.21875 46.484375 68.546875 \nQ 53.21875 62.890625 53.21875 53.421875 \nQ 53.21875 48.921875 51.53125 44.890625 \nQ 49.859375 40.875 45.40625 35.40625 \nQ 44.1875 33.984375 37.640625 27.21875 \nQ 31.109375 20.453125 19.1875 8.296875 \nz\n\" id=\"DejaVuSans-50\"/>\n      </defs>\n      <g transform=\"translate(73.824769 130.681582)scale(0.1 -0.1)\">\n       <use xlink:href=\"#DejaVuSans-8722\"/>\n       <use x=\"83.789062\" xlink:href=\"#DejaVuSans-50\"/>\n      </g>\n     </g>\n    </g>\n    <g id=\"xtick_3\">\n     <g id=\"line2d_3\">\n      <g>\n       <use style=\"stroke:#000000;stroke-width:0.8;\" x=\"139.391587\" xlink:href=\"#m4bf86dccc4\" y=\"116.083144\"/>\n      </g>\n     </g>\n     <g id=\"text_3\">\n      <!-- 0 -->\n      <defs>\n       <path d=\"M 31.78125 66.40625 \nQ 24.171875 66.40625 20.328125 58.90625 \nQ 16.5 51.421875 16.5 36.375 \nQ 16.5 21.390625 20.328125 13.890625 \nQ 24.171875 6.390625 31.78125 6.390625 \nQ 39.453125 6.390625 43.28125 13.890625 \nQ 47.125 21.390625 47.125 36.375 \nQ 47.125 51.421875 43.28125 58.90625 \nQ 39.453125 66.40625 31.78125 66.40625 \nz\nM 31.78125 74.21875 \nQ 44.046875 74.21875 50.515625 64.515625 \nQ 56.984375 54.828125 56.984375 36.375 \nQ 56.984375 17.96875 50.515625 8.265625 \nQ 44.046875 -1.421875 31.78125 -1.421875 \nQ 19.53125 -1.421875 13.0625 8.265625 \nQ 6.59375 17.96875 6.59375 36.375 \nQ 6.59375 54.828125 13.0625 64.515625 \nQ 19.53125 74.21875 31.78125 74.21875 \nz\n\" id=\"DejaVuSans-48\"/>\n      </defs>\n      <g transform=\"translate(136.210337 130.681582)scale(0.1 -0.1)\">\n       <use xlink:href=\"#DejaVuSans-48\"/>\n      </g>\n     </g>\n    </g>\n    <g id=\"xtick_4\">\n     <g id=\"line2d_4\">\n      <g>\n       <use style=\"stroke:#000000;stroke-width:0.8;\" x=\"197.587311\" xlink:href=\"#m4bf86dccc4\" y=\"116.083144\"/>\n      </g>\n     </g>\n     <g id=\"text_4\">\n      <!-- 2 -->\n      <g transform=\"translate(194.406061 130.681582)scale(0.1 -0.1)\">\n       <use xlink:href=\"#DejaVuSans-50\"/>\n      </g>\n     </g>\n    </g>\n    <g id=\"xtick_5\">\n     <g id=\"line2d_5\">\n      <g>\n       <use style=\"stroke:#000000;stroke-width:0.8;\" x=\"255.783035\" xlink:href=\"#m4bf86dccc4\" y=\"116.083144\"/>\n      </g>\n     </g>\n     <g id=\"text_5\">\n      <!-- 4 -->\n      <g transform=\"translate(252.601785 130.681582)scale(0.1 -0.1)\">\n       <use xlink:href=\"#DejaVuSans-52\"/>\n      </g>\n     </g>\n    </g>\n    <g id=\"xtick_6\">\n     <g id=\"line2d_6\">\n      <g>\n       <use style=\"stroke:#000000;stroke-width:0.8;\" x=\"313.978759\" xlink:href=\"#m4bf86dccc4\" y=\"116.083144\"/>\n      </g>\n     </g>\n     <g id=\"text_6\">\n      <!-- 6 -->\n      <defs>\n       <path d=\"M 33.015625 40.375 \nQ 26.375 40.375 22.484375 35.828125 \nQ 18.609375 31.296875 18.609375 23.390625 \nQ 18.609375 15.53125 22.484375 10.953125 \nQ 26.375 6.390625 33.015625 6.390625 \nQ 39.65625 6.390625 43.53125 10.953125 \nQ 47.40625 15.53125 47.40625 23.390625 \nQ 47.40625 31.296875 43.53125 35.828125 \nQ 39.65625 40.375 33.015625 40.375 \nz\nM 52.59375 71.296875 \nL 52.59375 62.3125 \nQ 48.875 64.0625 45.09375 64.984375 \nQ 41.3125 65.921875 37.59375 65.921875 \nQ 27.828125 65.921875 22.671875 59.328125 \nQ 17.53125 52.734375 16.796875 39.40625 \nQ 19.671875 43.65625 24.015625 45.921875 \nQ 28.375 48.1875 33.59375 48.1875 \nQ 44.578125 48.1875 50.953125 41.515625 \nQ 57.328125 34.859375 57.328125 23.390625 \nQ 57.328125 12.15625 50.6875 5.359375 \nQ 44.046875 -1.421875 33.015625 -1.421875 \nQ 20.359375 -1.421875 13.671875 8.265625 \nQ 6.984375 17.96875 6.984375 36.375 \nQ 6.984375 53.65625 15.1875 63.9375 \nQ 23.390625 74.21875 37.203125 74.21875 \nQ 40.921875 74.21875 44.703125 73.484375 \nQ 48.484375 72.75 52.59375 71.296875 \nz\n\" id=\"DejaVuSans-54\"/>\n      </defs>\n      <g transform=\"translate(310.797509 130.681582)scale(0.1 -0.1)\">\n       <use xlink:href=\"#DejaVuSans-54\"/>\n      </g>\n     </g>\n    </g>\n   </g>\n   <g id=\"matplotlib.axis_2\">\n    <g id=\"ytick_1\">\n     <g id=\"line2d_7\">\n      <defs>\n       <path d=\"M 0 0 \nL -3.5 0 \n\" id=\"m2e0b77b327\" style=\"stroke:#000000;stroke-width:0.8;\"/>\n      </defs>\n      <g>\n       <use style=\"stroke:#000000;stroke-width:0.8;\" x=\"139.391587\" xlink:href=\"#m2e0b77b327\" y=\"215.205977\"/>\n      </g>\n     </g>\n     <g id=\"text_7\">\n      <!-- −100 -->\n      <defs>\n       <path d=\"M 12.40625 8.296875 \nL 28.515625 8.296875 \nL 28.515625 63.921875 \nL 10.984375 60.40625 \nL 10.984375 69.390625 \nL 28.421875 72.90625 \nL 38.28125 72.90625 \nL 38.28125 8.296875 \nL 54.390625 8.296875 \nL 54.390625 0 \nL 12.40625 0 \nz\n\" id=\"DejaVuSans-49\"/>\n      </defs>\n      <g transform=\"translate(104.924399 219.005196)scale(0.1 -0.1)\">\n       <use xlink:href=\"#DejaVuSans-8722\"/>\n       <use x=\"83.789062\" xlink:href=\"#DejaVuSans-49\"/>\n       <use x=\"147.412109\" xlink:href=\"#DejaVuSans-48\"/>\n       <use x=\"211.035156\" xlink:href=\"#DejaVuSans-48\"/>\n      </g>\n     </g>\n    </g>\n    <g id=\"ytick_2\">\n     <g id=\"line2d_8\">\n      <g>\n       <use style=\"stroke:#000000;stroke-width:0.8;\" x=\"139.391587\" xlink:href=\"#m2e0b77b327\" y=\"190.425269\"/>\n      </g>\n     </g>\n     <g id=\"text_8\">\n      <!-- −75 -->\n      <defs>\n       <path d=\"M 8.203125 72.90625 \nL 55.078125 72.90625 \nL 55.078125 68.703125 \nL 28.609375 0 \nL 18.3125 0 \nL 43.21875 64.59375 \nL 8.203125 64.59375 \nz\n\" id=\"DejaVuSans-55\"/>\n       <path d=\"M 10.796875 72.90625 \nL 49.515625 72.90625 \nL 49.515625 64.59375 \nL 19.828125 64.59375 \nL 19.828125 46.734375 \nQ 21.96875 47.46875 24.109375 47.828125 \nQ 26.265625 48.1875 28.421875 48.1875 \nQ 40.625 48.1875 47.75 41.5 \nQ 54.890625 34.8125 54.890625 23.390625 \nQ 54.890625 11.625 47.5625 5.09375 \nQ 40.234375 -1.421875 26.90625 -1.421875 \nQ 22.3125 -1.421875 17.546875 -0.640625 \nQ 12.796875 0.140625 7.71875 1.703125 \nL 7.71875 11.625 \nQ 12.109375 9.234375 16.796875 8.0625 \nQ 21.484375 6.890625 26.703125 6.890625 \nQ 35.15625 6.890625 40.078125 11.328125 \nQ 45.015625 15.765625 45.015625 23.390625 \nQ 45.015625 31 40.078125 35.4375 \nQ 35.15625 39.890625 26.703125 39.890625 \nQ 22.75 39.890625 18.8125 39.015625 \nQ 14.890625 38.140625 10.796875 36.28125 \nz\n\" id=\"DejaVuSans-53\"/>\n      </defs>\n      <g transform=\"translate(111.286899 194.224487)scale(0.1 -0.1)\">\n       <use xlink:href=\"#DejaVuSans-8722\"/>\n       <use x=\"83.789062\" xlink:href=\"#DejaVuSans-55\"/>\n       <use x=\"147.412109\" xlink:href=\"#DejaVuSans-53\"/>\n      </g>\n     </g>\n    </g>\n    <g id=\"ytick_3\">\n     <g id=\"line2d_9\">\n      <g>\n       <use style=\"stroke:#000000;stroke-width:0.8;\" x=\"139.391587\" xlink:href=\"#m2e0b77b327\" y=\"165.644561\"/>\n      </g>\n     </g>\n     <g id=\"text_9\">\n      <!-- −50 -->\n      <g transform=\"translate(111.286899 169.443779)scale(0.1 -0.1)\">\n       <use xlink:href=\"#DejaVuSans-8722\"/>\n       <use x=\"83.789062\" xlink:href=\"#DejaVuSans-53\"/>\n       <use x=\"147.412109\" xlink:href=\"#DejaVuSans-48\"/>\n      </g>\n     </g>\n    </g>\n    <g id=\"ytick_4\">\n     <g id=\"line2d_10\">\n      <g>\n       <use style=\"stroke:#000000;stroke-width:0.8;\" x=\"139.391587\" xlink:href=\"#m2e0b77b327\" y=\"140.863852\"/>\n      </g>\n     </g>\n     <g id=\"text_10\">\n      <!-- −25 -->\n      <g transform=\"translate(111.286899 144.663071)scale(0.1 -0.1)\">\n       <use xlink:href=\"#DejaVuSans-8722\"/>\n       <use x=\"83.789062\" xlink:href=\"#DejaVuSans-50\"/>\n       <use x=\"147.412109\" xlink:href=\"#DejaVuSans-53\"/>\n      </g>\n     </g>\n    </g>\n    <g id=\"ytick_5\">\n     <g id=\"line2d_11\">\n      <g>\n       <use style=\"stroke:#000000;stroke-width:0.8;\" x=\"139.391587\" xlink:href=\"#m2e0b77b327\" y=\"116.083144\"/>\n      </g>\n     </g>\n     <g id=\"text_11\">\n      <!-- 0 -->\n      <g transform=\"translate(126.029087 119.882363)scale(0.1 -0.1)\">\n       <use xlink:href=\"#DejaVuSans-48\"/>\n      </g>\n     </g>\n    </g>\n    <g id=\"ytick_6\">\n     <g id=\"line2d_12\">\n      <g>\n       <use style=\"stroke:#000000;stroke-width:0.8;\" x=\"139.391587\" xlink:href=\"#m2e0b77b327\" y=\"91.302436\"/>\n      </g>\n     </g>\n     <g id=\"text_12\">\n      <!-- 25 -->\n      <g transform=\"translate(119.666587 95.101655)scale(0.1 -0.1)\">\n       <use xlink:href=\"#DejaVuSans-50\"/>\n       <use x=\"63.623047\" xlink:href=\"#DejaVuSans-53\"/>\n      </g>\n     </g>\n    </g>\n    <g id=\"ytick_7\">\n     <g id=\"line2d_13\">\n      <g>\n       <use style=\"stroke:#000000;stroke-width:0.8;\" x=\"139.391587\" xlink:href=\"#m2e0b77b327\" y=\"66.521728\"/>\n      </g>\n     </g>\n     <g id=\"text_13\">\n      <!-- 50 -->\n      <g transform=\"translate(119.666587 70.320947)scale(0.1 -0.1)\">\n       <use xlink:href=\"#DejaVuSans-53\"/>\n       <use x=\"63.623047\" xlink:href=\"#DejaVuSans-48\"/>\n      </g>\n     </g>\n    </g>\n    <g id=\"ytick_8\">\n     <g id=\"line2d_14\">\n      <g>\n       <use style=\"stroke:#000000;stroke-width:0.8;\" x=\"139.391587\" xlink:href=\"#m2e0b77b327\" y=\"41.74102\"/>\n      </g>\n     </g>\n     <g id=\"text_14\">\n      <!-- 75 -->\n      <g transform=\"translate(119.666587 45.540239)scale(0.1 -0.1)\">\n       <use xlink:href=\"#DejaVuSans-55\"/>\n       <use x=\"63.623047\" xlink:href=\"#DejaVuSans-53\"/>\n      </g>\n     </g>\n    </g>\n    <g id=\"ytick_9\">\n     <g id=\"line2d_15\">\n      <g>\n       <use style=\"stroke:#000000;stroke-width:0.8;\" x=\"139.391587\" xlink:href=\"#m2e0b77b327\" y=\"16.960312\"/>\n      </g>\n     </g>\n     <g id=\"text_15\">\n      <!-- 100 -->\n      <g transform=\"translate(113.304087 20.75953)scale(0.1 -0.1)\">\n       <use xlink:href=\"#DejaVuSans-49\"/>\n       <use x=\"63.623047\" xlink:href=\"#DejaVuSans-48\"/>\n       <use x=\"127.246094\" xlink:href=\"#DejaVuSans-48\"/>\n      </g>\n     </g>\n    </g>\n   </g>\n   <g id=\"line2d_16\">\n    <path clip-path=\"url(#p30ce1b5656)\" d=\"M 22.418182 214.756364 \nL 26.491882 204.291237 \nL 30.565583 194.43382 \nL 34.639284 185.167794 \nL 38.712985 176.476839 \nL 42.495707 168.907324 \nL 46.278429 161.806525 \nL 50.061151 155.161372 \nL 53.843873 148.958802 \nL 57.626595 143.185746 \nL 61.409317 137.82914 \nL 65.192039 132.875915 \nL 68.974761 128.313007 \nL 72.466504 124.436225 \nL 75.958248 120.870611 \nL 79.449991 117.605885 \nL 82.941735 114.631772 \nL 86.433478 111.937994 \nL 89.925222 109.514274 \nL 93.416965 107.350336 \nL 96.908708 105.435901 \nL 100.400452 103.760693 \nL 103.892195 102.314436 \nL 107.674917 100.994101 \nL 111.457639 99.917336 \nL 115.240362 99.071076 \nL 119.023084 98.442254 \nL 123.096784 97.993243 \nL 127.170485 97.764936 \nL 131.535164 97.746692 \nL 136.190822 97.963224 \nL 140.84648 98.399507 \nL 146.084095 99.122666 \nL 151.612689 100.115955 \nL 157.72324 101.440276 \nL 164.997706 103.252812 \nL 174.890979 105.970387 \nL 192.931653 110.961364 \nL 200.206119 112.725924 \nL 206.31667 113.994626 \nL 211.845263 114.925539 \nL 217.082878 115.579042 \nL 221.738536 115.944782 \nL 226.394194 116.08265 \nL 230.758874 115.983284 \nL 234.832574 115.672823 \nL 238.906275 115.135443 \nL 242.688997 114.418996 \nL 246.471719 113.47975 \nL 250.254441 112.30464 \nL 254.037163 110.880599 \nL 257.528907 109.333855 \nL 261.02065 107.553593 \nL 264.512394 105.529536 \nL 268.004137 103.251408 \nL 271.49588 100.708931 \nL 274.987624 97.891829 \nL 278.479367 94.789823 \nL 281.971111 91.392638 \nL 285.462854 87.689996 \nL 288.954598 83.67162 \nL 292.446341 79.327232 \nL 295.938084 74.646557 \nL 299.720807 69.184414 \nL 303.503529 63.302472 \nL 307.286251 56.987665 \nL 311.068973 50.226926 \nL 314.851695 43.007188 \nL 318.634417 35.315386 \nL 322.417139 27.138453 \nL 326.49084 17.774995 \nL 326.781818 17.083636 \nL 326.781818 17.083636 \n\" style=\"fill:none;stroke:#1f77b4;stroke-linecap:square;stroke-width:1.5;\"/>\n   </g>\n   <g id=\"patch_3\">\n    <path d=\"M 139.391587 224.64 \nL 139.391587 7.2 \n\" style=\"fill:none;stroke:#000000;stroke-linecap:square;stroke-linejoin:miter;stroke-width:0.8;\"/>\n   </g>\n   <g id=\"patch_4\">\n    <path d=\"M 342 224.64 \nL 342 7.2 \n\" style=\"fill:none;\"/>\n   </g>\n   <g id=\"patch_5\">\n    <path d=\"M 7.2 116.083144 \nL 342 116.083144 \n\" style=\"fill:none;stroke:#000000;stroke-linecap:square;stroke-linejoin:miter;stroke-width:0.8;\"/>\n   </g>\n   <g id=\"patch_6\">\n    <path d=\"M 7.2 7.2 \nL 342 7.2 \n\" style=\"fill:none;\"/>\n   </g>\n  </g>\n </g>\n <defs>\n  <clipPath id=\"p30ce1b5656\">\n   <rect height=\"217.44\" width=\"334.8\" x=\"7.2\" y=\"7.2\"/>\n  </clipPath>\n </defs>\n</svg>\n",
      "image/png": "[encoded data removed]"
     },
     "metadata": {
      "needs_background": "light"
     }
    }
   ],
   "source": [
    "fig = plt.figure() \n",
    "ax = fig.add_subplot(111) \n",
    "\n",
    "# set up axis \n",
    "ax.spines['left'].set_position('zero') \n",
    "ax.spines['right'].set_color('none') \n",
    "ax.spines['bottom'].set_position('zero') \n",
    "ax.spines['top'].set_color('none') \n",
    "ax.xaxis.set_ticks_position('bottom') \n",
    "ax.yaxis.set_ticks_position('left') \n",
    "\n",
    "# setup x and y ranges and precision\n",
    "xx = np.arange(-5, 8, 0.01) \n",
    "\n",
    "# draw my curve \n",
    "mf1 = sympify(fx)\n",
    "mlf1 = lambdify(x, mf1, 'numpy')\n",
    "\n",
    "ub, lb = 100, -100\n",
    "\n",
    "fplot = mlf1(xx)\n",
    "fplot[fplot > ub] = np.inf\n",
    "fplot[fplot < lb] = -np.inf\n",
    "\n",
    "ax.plot(xx, fplot) \n",
    "\n",
    "plt.show()"
   ]
  }
 ]
}